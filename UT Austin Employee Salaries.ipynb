{
 "cells": [
  {
   "cell_type": "markdown",
   "metadata": {},
   "source": [
    "# UT Austin Salaries Data "
   ]
  },
  {
   "cell_type": "code",
   "execution_count": null,
   "metadata": {
    "collapsed": true
   },
   "outputs": [],
   "source": [
    "import pandas as pd"
   ]
  },
  {
   "cell_type": "code",
   "execution_count": 4,
   "metadata": {
    "collapsed": true
   },
   "outputs": [],
   "source": [
    "%matplotlib inline"
   ]
  },
  {
   "cell_type": "code",
   "execution_count": 5,
   "metadata": {
    "collapsed": true
   },
   "outputs": [],
   "source": [
    "utaustin = pd.read_csv(\"/Users/amy/Documents/ut_austin.csv\")"
   ]
  },
  {
   "cell_type": "code",
   "execution_count": 6,
   "metadata": {},
   "outputs": [
    {
     "name": "stdout",
     "output_type": "stream",
     "text": [
      "<class 'pandas.core.frame.DataFrame'>\n",
      "RangeIndex: 13585 entries, 0 to 13584\n",
      "Data columns (total 12 columns):\n",
      "first_name                    13585 non-null object\n",
      "middle_name                   13585 non-null object\n",
      "last_name                     13585 non-null object\n",
      "name_suffix                   13585 non-null object\n",
      "titel                         13585 non-null object\n",
      "department                    13585 non-null object\n",
      "race                          13585 non-null object\n",
      "gender                        13585 non-null object\n",
      "continious_employment_date    13585 non-null int64\n",
      "first_employment_date         13585 non-null object\n",
      "employment_type               13585 non-null object\n",
      "salary                        13585 non-null int64\n",
      "dtypes: int64(2), object(10)\n",
      "memory usage: 1.2+ MB\n"
     ]
    }
   ],
   "source": [
    "utaustin.info()"
   ]
  },
  {
   "cell_type": "code",
   "execution_count": 7,
   "metadata": {},
   "outputs": [
    {
     "data": {
      "text/html": [
       "<div>\n",
       "<style>\n",
       "    .dataframe thead tr:only-child th {\n",
       "        text-align: right;\n",
       "    }\n",
       "\n",
       "    .dataframe thead th {\n",
       "        text-align: left;\n",
       "    }\n",
       "\n",
       "    .dataframe tbody tr th {\n",
       "        vertical-align: top;\n",
       "    }\n",
       "</style>\n",
       "<table border=\"1\" class=\"dataframe\">\n",
       "  <thead>\n",
       "    <tr style=\"text-align: right;\">\n",
       "      <th></th>\n",
       "      <th>first_name</th>\n",
       "      <th>middle_name</th>\n",
       "      <th>last_name</th>\n",
       "      <th>name_suffix</th>\n",
       "      <th>titel</th>\n",
       "      <th>department</th>\n",
       "      <th>race</th>\n",
       "      <th>gender</th>\n",
       "      <th>continious_employment_date</th>\n",
       "      <th>first_employment_date</th>\n",
       "      <th>employment_type</th>\n",
       "      <th>salary</th>\n",
       "    </tr>\n",
       "  </thead>\n",
       "  <tbody>\n",
       "    <tr>\n",
       "      <th>0</th>\n",
       "      <td>Charles</td>\n",
       "      <td>Rena</td>\n",
       "      <td>Strong</td>\n",
       "      <td></td>\n",
       "      <td>Head Coach                                    ...</td>\n",
       "      <td>INTERCOLLEGIATE ATHLETICS</td>\n",
       "      <td>BLACK                                         ...</td>\n",
       "      <td>MALE                                          ...</td>\n",
       "      <td>20140124</td>\n",
       "      <td>20140124</td>\n",
       "      <td>FULL TIME</td>\n",
       "      <td>5160317</td>\n",
       "    </tr>\n",
       "    <tr>\n",
       "      <th>1</th>\n",
       "      <td>Shaka</td>\n",
       "      <td></td>\n",
       "      <td>Smart</td>\n",
       "      <td></td>\n",
       "      <td>Head Coach                                    ...</td>\n",
       "      <td>INTERCOLLEGIATE ATHLETICS</td>\n",
       "      <td>BLACK                                         ...</td>\n",
       "      <td>MALE                                          ...</td>\n",
       "      <td>20150406</td>\n",
       "      <td>20150406</td>\n",
       "      <td>FULL TIME</td>\n",
       "      <td>2845476</td>\n",
       "    </tr>\n",
       "    <tr>\n",
       "      <th>2</th>\n",
       "      <td>August</td>\n",
       "      <td>E</td>\n",
       "      <td>Garrido</td>\n",
       "      <td>Jr</td>\n",
       "      <td>Special Assistant                             ...</td>\n",
       "      <td>INTERCOLLEGIATE ATHLETICS</td>\n",
       "      <td>HISPANIC                                      ...</td>\n",
       "      <td>MALE                                          ...</td>\n",
       "      <td>19960801</td>\n",
       "      <td>19960801</td>\n",
       "      <td>FULL TIME</td>\n",
       "      <td>1167489</td>\n",
       "    </tr>\n",
       "    <tr>\n",
       "      <th>3</th>\n",
       "      <td>Kevin</td>\n",
       "      <td></td>\n",
       "      <td>Bozic</td>\n",
       "      <td></td>\n",
       "      <td>Professor (Medical Affiliated)                ...</td>\n",
       "      <td>DEPARTMENT OF SURGERY AND PERIOPERATIVE CARE</td>\n",
       "      <td>WHITE                                         ...</td>\n",
       "      <td>MALE                                          ...</td>\n",
       "      <td>20150323</td>\n",
       "      <td>20150323</td>\n",
       "      <td>FULL TIME</td>\n",
       "      <td>950000</td>\n",
       "    </tr>\n",
       "    <tr>\n",
       "      <th>4</th>\n",
       "      <td>Vance</td>\n",
       "      <td>J</td>\n",
       "      <td>Bedford</td>\n",
       "      <td></td>\n",
       "      <td>Assistant Coach                               ...</td>\n",
       "      <td>INTERCOLLEGIATE ATHLETICS</td>\n",
       "      <td>BLACK                                         ...</td>\n",
       "      <td>MALE                                          ...</td>\n",
       "      <td>20140108</td>\n",
       "      <td>20140108</td>\n",
       "      <td>FULL TIME</td>\n",
       "      <td>800000</td>\n",
       "    </tr>\n",
       "  </tbody>\n",
       "</table>\n",
       "</div>"
      ],
      "text/plain": [
       "                       first_name                     middle_name  \\\n",
       "0  Charles                         Rena                             \n",
       "1  Shaka                                                            \n",
       "2  August                          E                                \n",
       "3  Kevin                                                            \n",
       "4  Vance                           J                                \n",
       "\n",
       "                        last_name name_suffix  \\\n",
       "0  Strong                                       \n",
       "1  Smart                                        \n",
       "2  Garrido                         Jr           \n",
       "3  Bozic                                        \n",
       "4  Bedford                                      \n",
       "\n",
       "                                               titel  \\\n",
       "0  Head Coach                                    ...   \n",
       "1  Head Coach                                    ...   \n",
       "2  Special Assistant                             ...   \n",
       "3  Professor (Medical Affiliated)                ...   \n",
       "4  Assistant Coach                               ...   \n",
       "\n",
       "                                      department  \\\n",
       "0                     INTERCOLLEGIATE ATHLETICS    \n",
       "1                     INTERCOLLEGIATE ATHLETICS    \n",
       "2                     INTERCOLLEGIATE ATHLETICS    \n",
       "3  DEPARTMENT OF SURGERY AND PERIOPERATIVE CARE    \n",
       "4                     INTERCOLLEGIATE ATHLETICS    \n",
       "\n",
       "                                                race  \\\n",
       "0  BLACK                                         ...   \n",
       "1  BLACK                                         ...   \n",
       "2  HISPANIC                                      ...   \n",
       "3  WHITE                                         ...   \n",
       "4  BLACK                                         ...   \n",
       "\n",
       "                                              gender  \\\n",
       "0  MALE                                          ...   \n",
       "1  MALE                                          ...   \n",
       "2  MALE                                          ...   \n",
       "3  MALE                                          ...   \n",
       "4  MALE                                          ...   \n",
       "\n",
       "   continious_employment_date first_employment_date employment_type   salary  \n",
       "0                    20140124              20140124       FULL TIME  5160317  \n",
       "1                    20150406              20150406       FULL TIME  2845476  \n",
       "2                    19960801              19960801       FULL TIME  1167489  \n",
       "3                    20150323              20150323       FULL TIME   950000  \n",
       "4                    20140108              20140108       FULL TIME   800000  "
      ]
     },
     "execution_count": 7,
     "metadata": {},
     "output_type": "execute_result"
    }
   ],
   "source": [
    "utaustin.head(5)"
   ]
  },
  {
   "cell_type": "code",
   "execution_count": 8,
   "metadata": {},
   "outputs": [
    {
     "data": {
      "text/html": [
       "<div>\n",
       "<style>\n",
       "    .dataframe thead tr:only-child th {\n",
       "        text-align: right;\n",
       "    }\n",
       "\n",
       "    .dataframe thead th {\n",
       "        text-align: left;\n",
       "    }\n",
       "\n",
       "    .dataframe tbody tr th {\n",
       "        vertical-align: top;\n",
       "    }\n",
       "</style>\n",
       "<table border=\"1\" class=\"dataframe\">\n",
       "  <thead>\n",
       "    <tr style=\"text-align: right;\">\n",
       "      <th></th>\n",
       "      <th>index</th>\n",
       "      <th>department</th>\n",
       "    </tr>\n",
       "  </thead>\n",
       "  <tbody>\n",
       "    <tr>\n",
       "      <th>0</th>\n",
       "      <td>APPLIED RESEARCH LABORATORIES</td>\n",
       "      <td>526</td>\n",
       "    </tr>\n",
       "    <tr>\n",
       "      <th>1</th>\n",
       "      <td>DIVISION OF HOUSING AND FOOD SERVICE</td>\n",
       "      <td>380</td>\n",
       "    </tr>\n",
       "    <tr>\n",
       "      <th>2</th>\n",
       "      <td>SCHOOL OF LAW</td>\n",
       "      <td>346</td>\n",
       "    </tr>\n",
       "    <tr>\n",
       "      <th>3</th>\n",
       "      <td>INTERCOLLEGIATE ATHLETICS</td>\n",
       "      <td>333</td>\n",
       "    </tr>\n",
       "    <tr>\n",
       "      <th>4</th>\n",
       "      <td>FACILITIES SERVICES CUSTODIAL SERVICES</td>\n",
       "      <td>320</td>\n",
       "    </tr>\n",
       "    <tr>\n",
       "      <th>5</th>\n",
       "      <td>UNIVERSITY OF TEXAS LIBRARIES</td>\n",
       "      <td>220</td>\n",
       "    </tr>\n",
       "    <tr>\n",
       "      <th>6</th>\n",
       "      <td>COLLEGE OF PHARMACY</td>\n",
       "      <td>207</td>\n",
       "    </tr>\n",
       "    <tr>\n",
       "      <th>7</th>\n",
       "      <td>FACILITIES OPERATIONS AND MAINTENANCE</td>\n",
       "      <td>201</td>\n",
       "    </tr>\n",
       "    <tr>\n",
       "      <th>8</th>\n",
       "      <td>COLLEGE OF NATURAL SCIENCES</td>\n",
       "      <td>171</td>\n",
       "    </tr>\n",
       "    <tr>\n",
       "      <th>9</th>\n",
       "      <td>UTILITIES AND ENERGY MANAGEMENT</td>\n",
       "      <td>166</td>\n",
       "    </tr>\n",
       "  </tbody>\n",
       "</table>\n",
       "</div>"
      ],
      "text/plain": [
       "                                     index  department\n",
       "0           APPLIED RESEARCH LABORATORIES          526\n",
       "1    DIVISION OF HOUSING AND FOOD SERVICE          380\n",
       "2                           SCHOOL OF LAW          346\n",
       "3               INTERCOLLEGIATE ATHLETICS          333\n",
       "4  FACILITIES SERVICES CUSTODIAL SERVICES          320\n",
       "5           UNIVERSITY OF TEXAS LIBRARIES          220\n",
       "6                     COLLEGE OF PHARMACY          207\n",
       "7   FACILITIES OPERATIONS AND MAINTENANCE          201\n",
       "8             COLLEGE OF NATURAL SCIENCES          171\n",
       "9         UTILITIES AND ENERGY MANAGEMENT          166"
      ]
     },
     "execution_count": 8,
     "metadata": {},
     "output_type": "execute_result"
    }
   ],
   "source": [
    "utaustin['department'].value_counts().reset_index().head(10)"
   ]
  },
  {
   "cell_type": "code",
   "execution_count": 9,
   "metadata": {},
   "outputs": [
    {
     "data": {
      "text/plain": [
       "FULL TIME    12454\n",
       "PART TIME     1131\n",
       "Name: employment_type, dtype: int64"
      ]
     },
     "execution_count": 9,
     "metadata": {},
     "output_type": "execute_result"
    }
   ],
   "source": [
    "utaustin.employment_type.value_counts()"
   ]
  },
  {
   "cell_type": "code",
   "execution_count": 10,
   "metadata": {
    "collapsed": true
   },
   "outputs": [],
   "source": [
    "full_time = utaustin[utaustin.employment_type == \"FULL TIME\"]"
   ]
  },
  {
   "cell_type": "code",
   "execution_count": 11,
   "metadata": {},
   "outputs": [
    {
     "name": "stdout",
     "output_type": "stream",
     "text": [
      "<class 'pandas.core.frame.DataFrame'>\n",
      "Int64Index: 12454 entries, 0 to 13584\n",
      "Data columns (total 12 columns):\n",
      "first_name                    12454 non-null object\n",
      "middle_name                   12454 non-null object\n",
      "last_name                     12454 non-null object\n",
      "name_suffix                   12454 non-null object\n",
      "titel                         12454 non-null object\n",
      "department                    12454 non-null object\n",
      "race                          12454 non-null object\n",
      "gender                        12454 non-null object\n",
      "continious_employment_date    12454 non-null int64\n",
      "first_employment_date         12454 non-null object\n",
      "employment_type               12454 non-null object\n",
      "salary                        12454 non-null int64\n",
      "dtypes: int64(2), object(10)\n",
      "memory usage: 1.2+ MB\n"
     ]
    }
   ],
   "source": [
    "full_time.info()"
   ]
  },
  {
   "cell_type": "code",
   "execution_count": 12,
   "metadata": {},
   "outputs": [
    {
     "data": {
      "text/plain": [
       "WHITE                                                 8253\n",
       "HISPANIC                                              2236\n",
       "ASIAN                                                 1021\n",
       "BLACK                                                  723\n",
       "TWO OR MORE ETHNICITIES                                185\n",
       "AMERICAN INDIAN/ALASKAN                                 29\n",
       "NATIVE HAWAIIAN/PACIFIC ISLANDER                         4\n",
       "                                                         3\n",
       "Name: race, dtype: int64"
      ]
     },
     "execution_count": 12,
     "metadata": {},
     "output_type": "execute_result"
    }
   ],
   "source": [
    "full_time.race.value_counts()"
   ]
  },
  {
   "cell_type": "code",
   "execution_count": 13,
   "metadata": {},
   "outputs": [
    {
     "data": {
      "text/html": [
       "<div>\n",
       "<style>\n",
       "    .dataframe thead tr:only-child th {\n",
       "        text-align: right;\n",
       "    }\n",
       "\n",
       "    .dataframe thead th {\n",
       "        text-align: left;\n",
       "    }\n",
       "\n",
       "    .dataframe tbody tr th {\n",
       "        vertical-align: top;\n",
       "    }\n",
       "</style>\n",
       "<table border=\"1\" class=\"dataframe\">\n",
       "  <thead>\n",
       "    <tr style=\"text-align: right;\">\n",
       "      <th></th>\n",
       "      <th>race</th>\n",
       "      <th>salary</th>\n",
       "    </tr>\n",
       "  </thead>\n",
       "  <tbody>\n",
       "    <tr>\n",
       "      <th>0</th>\n",
       "      <td>...</td>\n",
       "      <td>9166.666667</td>\n",
       "    </tr>\n",
       "    <tr>\n",
       "      <th>1</th>\n",
       "      <td>AMERICAN INDIAN/ALASKAN                       ...</td>\n",
       "      <td>74633.931034</td>\n",
       "    </tr>\n",
       "    <tr>\n",
       "      <th>2</th>\n",
       "      <td>ASIAN                                         ...</td>\n",
       "      <td>71954.560235</td>\n",
       "    </tr>\n",
       "    <tr>\n",
       "      <th>3</th>\n",
       "      <td>BLACK                                         ...</td>\n",
       "      <td>69888.280775</td>\n",
       "    </tr>\n",
       "    <tr>\n",
       "      <th>4</th>\n",
       "      <td>HISPANIC                                      ...</td>\n",
       "      <td>49789.900716</td>\n",
       "    </tr>\n",
       "    <tr>\n",
       "      <th>5</th>\n",
       "      <td>NATIVE HAWAIIAN/PACIFIC ISLANDER              ...</td>\n",
       "      <td>46753.750000</td>\n",
       "    </tr>\n",
       "    <tr>\n",
       "      <th>6</th>\n",
       "      <td>TWO OR MORE ETHNICITIES                       ...</td>\n",
       "      <td>55887.805405</td>\n",
       "    </tr>\n",
       "    <tr>\n",
       "      <th>7</th>\n",
       "      <td>WHITE                                         ...</td>\n",
       "      <td>79099.984854</td>\n",
       "    </tr>\n",
       "  </tbody>\n",
       "</table>\n",
       "</div>"
      ],
      "text/plain": [
       "                                                race        salary\n",
       "0                                                ...   9166.666667\n",
       "1  AMERICAN INDIAN/ALASKAN                       ...  74633.931034\n",
       "2  ASIAN                                         ...  71954.560235\n",
       "3  BLACK                                         ...  69888.280775\n",
       "4  HISPANIC                                      ...  49789.900716\n",
       "5  NATIVE HAWAIIAN/PACIFIC ISLANDER              ...  46753.750000\n",
       "6  TWO OR MORE ETHNICITIES                       ...  55887.805405\n",
       "7  WHITE                                         ...  79099.984854"
      ]
     },
     "execution_count": 13,
     "metadata": {},
     "output_type": "execute_result"
    }
   ],
   "source": [
    "full_time.groupby(\"race\").salary.mean().reset_index()"
   ]
  },
  {
   "cell_type": "code",
   "execution_count": 14,
   "metadata": {},
   "outputs": [
    {
     "data": {
      "text/html": [
       "<div>\n",
       "<style>\n",
       "    .dataframe thead tr:only-child th {\n",
       "        text-align: right;\n",
       "    }\n",
       "\n",
       "    .dataframe thead th {\n",
       "        text-align: left;\n",
       "    }\n",
       "\n",
       "    .dataframe tbody tr th {\n",
       "        vertical-align: top;\n",
       "    }\n",
       "</style>\n",
       "<table border=\"1\" class=\"dataframe\">\n",
       "  <thead>\n",
       "    <tr style=\"text-align: right;\">\n",
       "      <th></th>\n",
       "      <th>race</th>\n",
       "      <th>gender</th>\n",
       "      <th>salary</th>\n",
       "    </tr>\n",
       "  </thead>\n",
       "  <tbody>\n",
       "    <tr>\n",
       "      <th>2</th>\n",
       "      <td>AMERICAN INDIAN/ALASKAN                       ...</td>\n",
       "      <td>MALE                                          ...</td>\n",
       "      <td>106984.100000</td>\n",
       "    </tr>\n",
       "    <tr>\n",
       "      <th>14</th>\n",
       "      <td>WHITE                                         ...</td>\n",
       "      <td>MALE                                          ...</td>\n",
       "      <td>90113.932030</td>\n",
       "    </tr>\n",
       "    <tr>\n",
       "      <th>6</th>\n",
       "      <td>BLACK                                         ...</td>\n",
       "      <td>MALE                                          ...</td>\n",
       "      <td>83696.547872</td>\n",
       "    </tr>\n",
       "    <tr>\n",
       "      <th>4</th>\n",
       "      <td>ASIAN                                         ...</td>\n",
       "      <td>MALE                                          ...</td>\n",
       "      <td>80326.605911</td>\n",
       "    </tr>\n",
       "    <tr>\n",
       "      <th>13</th>\n",
       "      <td>WHITE                                         ...</td>\n",
       "      <td>FEMALE                                        ...</td>\n",
       "      <td>66528.538661</td>\n",
       "    </tr>\n",
       "    <tr>\n",
       "      <th>12</th>\n",
       "      <td>TWO OR MORE ETHNICITIES                       ...</td>\n",
       "      <td>MALE                                          ...</td>\n",
       "      <td>63191.623377</td>\n",
       "    </tr>\n",
       "    <tr>\n",
       "      <th>3</th>\n",
       "      <td>ASIAN                                         ...</td>\n",
       "      <td>FEMALE                                        ...</td>\n",
       "      <td>59579.376214</td>\n",
       "    </tr>\n",
       "    <tr>\n",
       "      <th>1</th>\n",
       "      <td>AMERICAN INDIAN/ALASKAN                       ...</td>\n",
       "      <td>FEMALE                                        ...</td>\n",
       "      <td>57607.526316</td>\n",
       "    </tr>\n",
       "    <tr>\n",
       "      <th>5</th>\n",
       "      <td>BLACK                                         ...</td>\n",
       "      <td>FEMALE                                        ...</td>\n",
       "      <td>54926.008646</td>\n",
       "    </tr>\n",
       "    <tr>\n",
       "      <th>8</th>\n",
       "      <td>HISPANIC                                      ...</td>\n",
       "      <td>MALE                                          ...</td>\n",
       "      <td>53591.390935</td>\n",
       "    </tr>\n",
       "    <tr>\n",
       "      <th>11</th>\n",
       "      <td>TWO OR MORE ETHNICITIES                       ...</td>\n",
       "      <td>FEMALE                                        ...</td>\n",
       "      <td>50680.453704</td>\n",
       "    </tr>\n",
       "    <tr>\n",
       "      <th>10</th>\n",
       "      <td>NATIVE HAWAIIAN/PACIFIC ISLANDER              ...</td>\n",
       "      <td>MALE                                          ...</td>\n",
       "      <td>48599.000000</td>\n",
       "    </tr>\n",
       "    <tr>\n",
       "      <th>7</th>\n",
       "      <td>HISPANIC                                      ...</td>\n",
       "      <td>FEMALE                                        ...</td>\n",
       "      <td>46369.528462</td>\n",
       "    </tr>\n",
       "    <tr>\n",
       "      <th>9</th>\n",
       "      <td>NATIVE HAWAIIAN/PACIFIC ISLANDER              ...</td>\n",
       "      <td>FEMALE                                        ...</td>\n",
       "      <td>46138.666667</td>\n",
       "    </tr>\n",
       "    <tr>\n",
       "      <th>0</th>\n",
       "      <td>...</td>\n",
       "      <td>...</td>\n",
       "      <td>9166.666667</td>\n",
       "    </tr>\n",
       "  </tbody>\n",
       "</table>\n",
       "</div>"
      ],
      "text/plain": [
       "                                                 race  \\\n",
       "2   AMERICAN INDIAN/ALASKAN                       ...   \n",
       "14  WHITE                                         ...   \n",
       "6   BLACK                                         ...   \n",
       "4   ASIAN                                         ...   \n",
       "13  WHITE                                         ...   \n",
       "12  TWO OR MORE ETHNICITIES                       ...   \n",
       "3   ASIAN                                         ...   \n",
       "1   AMERICAN INDIAN/ALASKAN                       ...   \n",
       "5   BLACK                                         ...   \n",
       "8   HISPANIC                                      ...   \n",
       "11  TWO OR MORE ETHNICITIES                       ...   \n",
       "10  NATIVE HAWAIIAN/PACIFIC ISLANDER              ...   \n",
       "7   HISPANIC                                      ...   \n",
       "9   NATIVE HAWAIIAN/PACIFIC ISLANDER              ...   \n",
       "0                                                 ...   \n",
       "\n",
       "                                               gender         salary  \n",
       "2   MALE                                          ...  106984.100000  \n",
       "14  MALE                                          ...   90113.932030  \n",
       "6   MALE                                          ...   83696.547872  \n",
       "4   MALE                                          ...   80326.605911  \n",
       "13  FEMALE                                        ...   66528.538661  \n",
       "12  MALE                                          ...   63191.623377  \n",
       "3   FEMALE                                        ...   59579.376214  \n",
       "1   FEMALE                                        ...   57607.526316  \n",
       "5   FEMALE                                        ...   54926.008646  \n",
       "8   MALE                                          ...   53591.390935  \n",
       "11  FEMALE                                        ...   50680.453704  \n",
       "10  MALE                                          ...   48599.000000  \n",
       "7   FEMALE                                        ...   46369.528462  \n",
       "9   FEMALE                                        ...   46138.666667  \n",
       "0                                                 ...    9166.666667  "
      ]
     },
     "execution_count": 14,
     "metadata": {},
     "output_type": "execute_result"
    }
   ],
   "source": [
    "full_time.groupby([\"race\",\"gender\"]).salary.mean().reset_index().sort_values(\"salary\", ascending=False).head(15)"
   ]
  },
  {
   "cell_type": "code",
   "execution_count": 15,
   "metadata": {},
   "outputs": [
    {
     "data": {
      "text/html": [
       "<div>\n",
       "<style>\n",
       "    .dataframe thead tr:only-child th {\n",
       "        text-align: right;\n",
       "    }\n",
       "\n",
       "    .dataframe thead th {\n",
       "        text-align: left;\n",
       "    }\n",
       "\n",
       "    .dataframe tbody tr th {\n",
       "        vertical-align: top;\n",
       "    }\n",
       "</style>\n",
       "<table border=\"1\" class=\"dataframe\">\n",
       "  <thead>\n",
       "    <tr style=\"text-align: right;\">\n",
       "      <th></th>\n",
       "      <th>department</th>\n",
       "      <th>salary</th>\n",
       "    </tr>\n",
       "  </thead>\n",
       "  <tbody>\n",
       "    <tr>\n",
       "      <th>303</th>\n",
       "      <td>TEXAS PERFORMING ARTS</td>\n",
       "      <td>237449.000000</td>\n",
       "    </tr>\n",
       "    <tr>\n",
       "      <th>134</th>\n",
       "      <td>DEPARTMENT OF SURGERY AND PERIOPERATIVE CARE</td>\n",
       "      <td>200205.461538</td>\n",
       "    </tr>\n",
       "    <tr>\n",
       "      <th>312</th>\n",
       "      <td>THE ROBERT S. STRAUSS CENTER</td>\n",
       "      <td>200001.000000</td>\n",
       "    </tr>\n",
       "    <tr>\n",
       "      <th>78</th>\n",
       "      <td>DEPARTMENT OF ACCOUNTING</td>\n",
       "      <td>185309.500000</td>\n",
       "    </tr>\n",
       "    <tr>\n",
       "      <th>137</th>\n",
       "      <td>DEPARTMENT OF WOMEN'S HEALTH</td>\n",
       "      <td>180929.333333</td>\n",
       "    </tr>\n",
       "    <tr>\n",
       "      <th>111</th>\n",
       "      <td>DEPARTMENT OF MARKETING ADMINISTRATION</td>\n",
       "      <td>171786.259259</td>\n",
       "    </tr>\n",
       "    <tr>\n",
       "      <th>98</th>\n",
       "      <td>DEPARTMENT OF FINANCE</td>\n",
       "      <td>169785.620000</td>\n",
       "    </tr>\n",
       "    <tr>\n",
       "      <th>310</th>\n",
       "      <td>THE DESIGN INSTITUTE FOR HEALTH</td>\n",
       "      <td>166752.500000</td>\n",
       "    </tr>\n",
       "    <tr>\n",
       "      <th>124</th>\n",
       "      <td>DEPARTMENT OF POPULATION HEALTH</td>\n",
       "      <td>152911.333333</td>\n",
       "    </tr>\n",
       "    <tr>\n",
       "      <th>75</th>\n",
       "      <td>DELL MEDICAL SCHOOL</td>\n",
       "      <td>139812.158730</td>\n",
       "    </tr>\n",
       "    <tr>\n",
       "      <th>105</th>\n",
       "      <td>DEPARTMENT OF INFORMATION, RISK, AND OPERATION...</td>\n",
       "      <td>137848.895833</td>\n",
       "    </tr>\n",
       "    <tr>\n",
       "      <th>93</th>\n",
       "      <td>DEPARTMENT OF ECONOMICS</td>\n",
       "      <td>134766.975000</td>\n",
       "    </tr>\n",
       "    <tr>\n",
       "      <th>193</th>\n",
       "      <td>INSTITUTE OF SPORTS LEADERSHIP AND INNOV</td>\n",
       "      <td>134500.000000</td>\n",
       "    </tr>\n",
       "    <tr>\n",
       "      <th>61</th>\n",
       "      <td>COLLEGE OF EDUCATION</td>\n",
       "      <td>132516.800000</td>\n",
       "    </tr>\n",
       "    <tr>\n",
       "      <th>114</th>\n",
       "      <td>DEPARTMENT OF MEDICAL EDUCATION</td>\n",
       "      <td>130862.000000</td>\n",
       "    </tr>\n",
       "    <tr>\n",
       "      <th>182</th>\n",
       "      <td>INFORMATION TECHNOLOGY SERVICES</td>\n",
       "      <td>129262.727273</td>\n",
       "    </tr>\n",
       "    <tr>\n",
       "      <th>118</th>\n",
       "      <td>DEPARTMENT OF NEUROSCIENCE</td>\n",
       "      <td>128758.589744</td>\n",
       "    </tr>\n",
       "    <tr>\n",
       "      <th>79</th>\n",
       "      <td>DEPARTMENT OF AEROSPACE ENGINEERING AND ENGINE...</td>\n",
       "      <td>128642.377778</td>\n",
       "    </tr>\n",
       "    <tr>\n",
       "      <th>341</th>\n",
       "      <td>VICE PRESIDENT FOR UNIVERSITY OPERATIONS</td>\n",
       "      <td>127550.571429</td>\n",
       "    </tr>\n",
       "    <tr>\n",
       "      <th>338</th>\n",
       "      <td>VICE PRESIDENT FOR LEGAL AFFAIRS</td>\n",
       "      <td>125602.818182</td>\n",
       "    </tr>\n",
       "  </tbody>\n",
       "</table>\n",
       "</div>"
      ],
      "text/plain": [
       "                                            department         salary\n",
       "303                             TEXAS PERFORMING ARTS   237449.000000\n",
       "134      DEPARTMENT OF SURGERY AND PERIOPERATIVE CARE   200205.461538\n",
       "312                      THE ROBERT S. STRAUSS CENTER   200001.000000\n",
       "78                           DEPARTMENT OF ACCOUNTING   185309.500000\n",
       "137                      DEPARTMENT OF WOMEN'S HEALTH   180929.333333\n",
       "111            DEPARTMENT OF MARKETING ADMINISTRATION   171786.259259\n",
       "98                              DEPARTMENT OF FINANCE   169785.620000\n",
       "310                   THE DESIGN INSTITUTE FOR HEALTH   166752.500000\n",
       "124                   DEPARTMENT OF POPULATION HEALTH   152911.333333\n",
       "75                                DELL MEDICAL SCHOOL   139812.158730\n",
       "105  DEPARTMENT OF INFORMATION, RISK, AND OPERATION...  137848.895833\n",
       "93                            DEPARTMENT OF ECONOMICS   134766.975000\n",
       "193          INSTITUTE OF SPORTS LEADERSHIP AND INNOV   134500.000000\n",
       "61                               COLLEGE OF EDUCATION   132516.800000\n",
       "114                   DEPARTMENT OF MEDICAL EDUCATION   130862.000000\n",
       "182                   INFORMATION TECHNOLOGY SERVICES   129262.727273\n",
       "118                        DEPARTMENT OF NEUROSCIENCE   128758.589744\n",
       "79   DEPARTMENT OF AEROSPACE ENGINEERING AND ENGINE...  128642.377778\n",
       "341          VICE PRESIDENT FOR UNIVERSITY OPERATIONS   127550.571429\n",
       "338                  VICE PRESIDENT FOR LEGAL AFFAIRS   125602.818182"
      ]
     },
     "execution_count": 15,
     "metadata": {},
     "output_type": "execute_result"
    }
   ],
   "source": [
    "full_time.groupby(\"department\").salary.mean().reset_index().sort_values(\"salary\", ascending=False).head(20)"
   ]
  },
  {
   "cell_type": "code",
   "execution_count": 16,
   "metadata": {},
   "outputs": [
    {
     "data": {
      "text/plain": [
       "department\n",
       "ACADEMIC INITIATIVES                         48488.416667\n",
       "ACADEMIC TECHNOLOGY SUPPORT                  52518.305085\n",
       "ACCT AND FINANCIAL MGMT                      48040.214286\n",
       "ACES IT GROUP                                82883.875000\n",
       "ADMIN SYSTEMS MODERNIZATION PROGRAM          77937.913043\n",
       "ADMISSIONS-UNDERGRADUATE PROGRAM             64643.166667\n",
       "ADVANCED MANUFACTURING CENTER                41713.000000\n",
       "AIR FORCE SCIENCE                            40366.000000\n",
       "ANIMAL RESOURCES CENTER                      42948.428571\n",
       "ANNETTE STRAUSS INSTITUTE FOR CIVIC LIFE     39478.533333\n",
       "Name: salary, dtype: float64"
      ]
     },
     "execution_count": 16,
     "metadata": {},
     "output_type": "execute_result"
    }
   ],
   "source": [
    "full_time.groupby(\"department\").salary.mean().head(10)"
   ]
  },
  {
   "cell_type": "markdown",
   "metadata": {},
   "source": [
    "Progress check: need to figure out if average salaries by department is actually accurate?"
   ]
  },
  {
   "cell_type": "code",
   "execution_count": 17,
   "metadata": {
    "collapsed": true
   },
   "outputs": [],
   "source": [
    "race = full_time.groupby(\"race\").salary.mean().head(10).reset_index()"
   ]
  },
  {
   "cell_type": "code",
   "execution_count": 22,
   "metadata": {},
   "outputs": [
    {
     "data": {
      "text/plain": [
       "[<matplotlib.text.Text at 0x108031150>,\n",
       " <matplotlib.text.Text at 0x10842ce10>,\n",
       " <matplotlib.text.Text at 0x10862a850>,\n",
       " <matplotlib.text.Text at 0x10862af50>,\n",
       " <matplotlib.text.Text at 0x108636690>,\n",
       " <matplotlib.text.Text at 0x108636d90>,\n",
       " <matplotlib.text.Text at 0x108642250>,\n",
       " <matplotlib.text.Text at 0x108642950>]"
      ]
     },
     "execution_count": 22,
     "metadata": {},
     "output_type": "execute_result"
    },
    {
     "data": {
      "image/png": "[encoded data removed]",
      "text/plain": [
       "<matplotlib.figure.Figure at 0x1082c2950>"
      ]
     },
     "metadata": {},
     "output_type": "display_data"
    }
   ],
   "source": [
    "chart = race.salary.plot.barh()\n",
    "chart.set_yticklabels(full_time.race)"
   ]
  },
  {
   "cell_type": "code",
   "execution_count": 21,
   "metadata": {},
   "outputs": [
    {
     "data": {
      "text/plain": [
       "[<matplotlib.text.Text at 0x108026110>,\n",
       " <matplotlib.text.Text at 0x108098050>,\n",
       " <matplotlib.text.Text at 0x1082b0a50>,\n",
       " <matplotlib.text.Text at 0x1082bb190>,\n",
       " <matplotlib.text.Text at 0x1082bb890>,\n",
       " <matplotlib.text.Text at 0x1082bbf90>,\n",
       " <matplotlib.text.Text at 0x1082c6450>,\n",
       " <matplotlib.text.Text at 0x1082c6b50>]"
      ]
     },
     "execution_count": 21,
     "metadata": {},
     "output_type": "execute_result"
    }
   ],
   "source": []
  },
  {
   "cell_type": "code",
   "execution_count": null,
   "metadata": {
    "collapsed": true
   },
   "outputs": [],
   "source": []
  }
 ],
 "metadata": {
  "kernelspec": {
   "display_name": "Python 2",
   "language": "python",
   "name": "python2"
  },
  "language_info": {
   "codemirror_mode": {
    "name": "ipython",
    "version": 2
   },
   "file_extension": ".py",
   "mimetype": "text/x-python",
   "name": "python",
   "nbconvert_exporter": "python",
   "pygments_lexer": "ipython2",
   "version": "2.7.13"
  }
 },
 "nbformat": 4,
 "nbformat_minor": 2
}
